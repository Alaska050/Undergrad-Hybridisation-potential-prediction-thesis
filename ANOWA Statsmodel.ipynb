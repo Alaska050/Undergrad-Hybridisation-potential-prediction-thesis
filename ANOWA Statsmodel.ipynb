{
 "cells": [
  {
   "cell_type": "code",
   "execution_count": 5,
   "id": "9ac09fa9",
   "metadata": {},
   "outputs": [],
   "source": [
    "import pandas as pd"
   ]
  },
  {
   "cell_type": "code",
   "execution_count": 6,
   "id": "ca728fb4",
   "metadata": {},
   "outputs": [],
   "source": [
    "df_mapping = pd.read_clipboard()"
   ]
  },
  {
   "cell_type": "code",
   "execution_count": 19,
   "id": "80ddbfbc",
   "metadata": {},
   "outputs": [],
   "source": [
    "df_mapping.to_clipboard()"
   ]
  },
  {
   "cell_type": "code",
   "execution_count": null,
   "id": "f62b3cd2",
   "metadata": {},
   "outputs": [],
   "source": [
    "[no]"
   ]
  },
  {
   "cell_type": "code",
   "execution_count": 17,
   "id": "6e782882",
   "metadata": {},
   "outputs": [
    {
     "data": {
      "text/html": [
       "<div>\n",
       "<style scoped>\n",
       "    .dataframe tbody tr th:only-of-type {\n",
       "        vertical-align: middle;\n",
       "    }\n",
       "\n",
       "    .dataframe tbody tr th {\n",
       "        vertical-align: top;\n",
       "    }\n",
       "\n",
       "    .dataframe thead th {\n",
       "        text-align: right;\n",
       "    }\n",
       "</style>\n",
       "<table border=\"1\" class=\"dataframe\">\n",
       "  <thead>\n",
       "    <tr style=\"text-align: right;\">\n",
       "      <th></th>\n",
       "      <th>bfly</th>\n",
       "      <th>answer</th>\n",
       "      <th>bfly_mean_def</th>\n",
       "    </tr>\n",
       "  </thead>\n",
       "  <tbody>\n",
       "    <tr>\n",
       "      <th>1</th>\n",
       "      <td>heliconius_ismenius _melpomene</td>\n",
       "      <td>No</td>\n",
       "      <td>0.068646</td>\n",
       "    </tr>\n",
       "    <tr>\n",
       "      <th>2</th>\n",
       "      <td>heliconius_charithonia_sara</td>\n",
       "      <td>No</td>\n",
       "      <td>0.093169</td>\n",
       "    </tr>\n",
       "    <tr>\n",
       "      <th>3</th>\n",
       "      <td>heliconius_pardalinus_timareta</td>\n",
       "      <td>No</td>\n",
       "      <td>0.050471</td>\n",
       "    </tr>\n",
       "    <tr>\n",
       "      <th>4</th>\n",
       "      <td>heliconius_congener_heurippa</td>\n",
       "      <td>No</td>\n",
       "      <td>0.084656</td>\n",
       "    </tr>\n",
       "    <tr>\n",
       "      <th>5</th>\n",
       "      <td>heliconius_charithonia_sapho</td>\n",
       "      <td>No</td>\n",
       "      <td>0.092429</td>\n",
       "    </tr>\n",
       "    <tr>\n",
       "      <th>...</th>\n",
       "      <td>...</td>\n",
       "      <td>...</td>\n",
       "      <td>...</td>\n",
       "    </tr>\n",
       "    <tr>\n",
       "      <th>88</th>\n",
       "      <td>heliconius_congener_hecale</td>\n",
       "      <td>No</td>\n",
       "      <td>0.089441</td>\n",
       "    </tr>\n",
       "    <tr>\n",
       "      <th>89</th>\n",
       "      <td>heliconius_elevatus_numata</td>\n",
       "      <td>No</td>\n",
       "      <td>0.061936</td>\n",
       "    </tr>\n",
       "    <tr>\n",
       "      <th>91</th>\n",
       "      <td>heliconius_erato_sapho</td>\n",
       "      <td>No</td>\n",
       "      <td>0.094758</td>\n",
       "    </tr>\n",
       "    <tr>\n",
       "      <th>92</th>\n",
       "      <td>heliconius_charithonia_numata</td>\n",
       "      <td>No</td>\n",
       "      <td>0.088113</td>\n",
       "    </tr>\n",
       "    <tr>\n",
       "      <th>93</th>\n",
       "      <td>heliconius_melpomene_sapho</td>\n",
       "      <td>No</td>\n",
       "      <td>0.088378</td>\n",
       "    </tr>\n",
       "  </tbody>\n",
       "</table>\n",
       "<p>80 rows × 3 columns</p>\n",
       "</div>"
      ],
      "text/plain": [
       "                              bfly answer  bfly_mean_def\n",
       "1   heliconius_ismenius _melpomene     No       0.068646\n",
       "2      heliconius_charithonia_sara     No       0.093169\n",
       "3   heliconius_pardalinus_timareta     No       0.050471\n",
       "4     heliconius_congener_heurippa     No       0.084656\n",
       "5     heliconius_charithonia_sapho     No       0.092429\n",
       "..                             ...    ...            ...\n",
       "88      heliconius_congener_hecale     No       0.089441\n",
       "89      heliconius_elevatus_numata     No       0.061936\n",
       "91          heliconius_erato_sapho     No       0.094758\n",
       "92   heliconius_charithonia_numata     No       0.088113\n",
       "93      heliconius_melpomene_sapho     No       0.088378\n",
       "\n",
       "[80 rows x 3 columns]"
      ]
     },
     "execution_count": 17,
     "metadata": {},
     "output_type": "execute_result"
    }
   ],
   "source": [
    "_df_no"
   ]
  },
  {
   "cell_type": "code",
   "execution_count": 10,
   "id": "b652cfda",
   "metadata": {},
   "outputs": [],
   "source": [
    "_df_yes = df_mapping.query(\"answer == 'Yes'\")\n",
    "_df_no = df_mapping.query(\"answer == 'No'\")\n",
    "_df_possible = df_mapping.query(\"answer == 'Possible'\")"
   ]
  },
  {
   "cell_type": "code",
   "execution_count": 15,
   "id": "f0f1dc60",
   "metadata": {},
   "outputs": [
    {
     "data": {
      "text/plain": [
       "answer\n",
       "No          0.079430\n",
       "Possible    0.061990\n",
       "Yes         0.053378\n",
       "dtype: float64"
      ]
     },
     "execution_count": 15,
     "metadata": {},
     "output_type": "execute_result"
    }
   ],
   "source": [
    "df_mapping.groupby(\"answer\").apply(lambda x: x.bfly_mean_def.mean())"
   ]
  },
  {
   "cell_type": "code",
   "execution_count": 13,
   "id": "cfef80a0",
   "metadata": {},
   "outputs": [
    {
     "name": "stdout",
     "output_type": "stream",
     "text": [
      "ANOVA Table:\n",
      "            sum_sq    df          F   PR(>F)\n",
      "group     0.005574   2.0  10.842642  0.00006\n",
      "Residual  0.023392  91.0        NaN      NaN\n",
      "\n",
      "Tukey's HSD Test:\n",
      "  Multiple Comparison of Means - Tukey HSD, FWER=0.05   \n",
      "========================================================\n",
      " group1   group2  meandiff p-adj   lower   upper  reject\n",
      "--------------------------------------------------------\n",
      "      No Possible  -0.0174 0.0117 -0.0316 -0.0033   True\n",
      "      No      Yes  -0.0261 0.0007 -0.0422 -0.0099   True\n",
      "Possible      Yes  -0.0086 0.5821 -0.0292   0.012  False\n",
      "--------------------------------------------------------\n"
     ]
    }
   ],
   "source": [
    "import pandas as pd\n",
    "import statsmodels.api as sm\n",
    "from statsmodels.formula.api import ols\n",
    "from statsmodels.stats.multicomp import pairwise_tukeyhsd\n",
    "\n",
    "# Define your data\n",
    "Yes = _df_yes.bfly_mean_def.to_list()\n",
    "No = _df_no.bfly_mean_def.to_list()\n",
    "Possible = _df_possible.bfly_mean_def.to_list()\n",
    "\n",
    "# Combine data\n",
    "data = pd.DataFrame({\n",
    "    \"value\": Yes + No + Possible,\n",
    "    \"group\": [\"Yes\"] * len(Yes) + [\"No\"] * len(No) + [\"Possible\"] * len(Possible)\n",
    "})\n",
    "\n",
    "# Fit ANOVA model\n",
    "model = ols(\"value ~ group\", data=data).fit()\n",
    "\n",
    "# Perform ANOVA\n",
    "anova_table = sm.stats.anova_lm(model, typ=2)\n",
    "print(\"ANOVA Table:\")\n",
    "print(anova_table)\n",
    "\n",
    "# Perform Tukey's HSD\n",
    "tukey = pairwise_tukeyhsd(endog=data[\"value\"], groups=data[\"group\"], alpha=0.05)\n",
    "print(\"\\nTukey's HSD Test:\")\n",
    "print(tukey)\n"
   ]
  },
  {
   "cell_type": "code",
   "execution_count": null,
   "id": "0738b808",
   "metadata": {},
   "outputs": [],
   "source": []
  },
  {
   "cell_type": "code",
   "execution_count": 26,
   "id": "761cb39e",
   "metadata": {},
   "outputs": [],
   "source": [
    "anova_table.to_clipboard()"
   ]
  },
  {
   "cell_type": "code",
   "execution_count": 22,
   "id": "cddaea90",
   "metadata": {},
   "outputs": [],
   "source": [
    "tukey_summary = tukey.summary().data\n",
    "\n",
    "# Convert the data to a DataFrame\n",
    "tukey_df = pd.DataFrame(tukey_summary[1:], columns=tukey_summary[0])"
   ]
  },
  {
   "cell_type": "code",
   "execution_count": 27,
   "id": "21f1f7af",
   "metadata": {},
   "outputs": [],
   "source": [
    "tukey_df.to_clipboard()"
   ]
  }
 ],
 "metadata": {
  "kernelspec": {
   "display_name": "Python 3 (ipykernel)",
   "language": "python",
   "name": "python3"
  },
  "language_info": {
   "codemirror_mode": {
    "name": "ipython",
    "version": 3
   },
   "file_extension": ".py",
   "mimetype": "text/x-python",
   "name": "python",
   "nbconvert_exporter": "python",
   "pygments_lexer": "ipython3",
   "version": "3.11.5"
  }
 },
 "nbformat": 4,
 "nbformat_minor": 5
}
